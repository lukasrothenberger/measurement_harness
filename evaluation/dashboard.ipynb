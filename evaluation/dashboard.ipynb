{
 "cells": [
  {
   "cell_type": "markdown",
   "id": "872aac5c-4e7a-436d-97ec-a0d7dc3974e9",
   "metadata": {},
   "source": [
    "### Data collection"
   ]
  },
  {
   "cell_type": "code",
   "execution_count": 1,
   "id": "f774f94c-eef8-46a1-8ce7-47567531c39e",
   "metadata": {
    "scrolled": true
   },
   "outputs": [
    {
     "name": "stderr",
     "output_type": "stream",
     "text": [
      "2024-11-07 13:32:07,130 - GlobalLogger - INFO - Logger configured\n",
      "[DP][GlobalLogger] INFO: Logger configured\n",
      "[DP][DataCollection.DataRaces.Driver] INFO: collecting suggestion data races\n",
      "2024-11-07 13:32:07,514 - GlobalLogger - INFO - Logger configured\n",
      "2024-11-07 13:32:07,514 - GlobalLogger - INFO - Logger configured\n",
      "[DP][GlobalLogger] INFO: Logger configured\n",
      "[DP][DataCollection.Complexity.Driver] INFO: collecting suggestion complexity data\n",
      "[DP][DataCollection.Complexity.Driver] INFO: Benchmarks:\n",
      "['miniFE/miniFE_orig', 'rodinia_3.1/kmeans/kmeans_orig', 'rodinia_3.1/nn/nn_orig', 'polybench/2mm/orig', 'burkardt/md/md_orig']\n"
     ]
    },
    {
     "ename": "KeyError",
     "evalue": "False",
     "output_type": "error",
     "traceback": [
      "\u001b[0;31m---------------------------------------------------------------------------\u001b[0m",
      "\u001b[0;31mKeyError\u001b[0m                                  Traceback (most recent call last)",
      "Cell \u001b[0;32mIn[1], line 6\u001b[0m\n\u001b[1;32m      4\u001b[0m \u001b[38;5;28;01mfrom\u001b[39;00m \u001b[38;5;21;01mcollect_speedup_data\u001b[39;00m \u001b[38;5;28;01mimport\u001b[39;00m collect_data \u001b[38;5;28;01mas\u001b[39;00m collect_su_data\n\u001b[1;32m      5\u001b[0m collect_dr_data()\n\u001b[0;32m----> 6\u001b[0m \u001b[43mcollect_sc_data\u001b[49m\u001b[43m(\u001b[49m\u001b[43m)\u001b[49m\n\u001b[1;32m      7\u001b[0m collect_so_data()\n\u001b[1;32m      8\u001b[0m collect_su_data()\n",
      "File \u001b[0;32m~/git/benchmark_harness/evaluation/collect_suggestion_complexity_data.py:70\u001b[0m, in \u001b[0;36mcollect_data\u001b[0;34m()\u001b[0m\n\u001b[1;32m     67\u001b[0m without_metadata_suggestions_with_function_calls \u001b[38;5;241m=\u001b[39m \u001b[38;5;241m0\u001b[39m\n\u001b[1;32m     68\u001b[0m without_metadata_suggestions_without_function_calls \u001b[38;5;241m=\u001b[39m \u001b[38;5;241m0\u001b[39m\n\u001b[0;32m---> 70\u001b[0m \u001b[38;5;28;01mwith\u001b[39;00m \u001b[38;5;28mopen\u001b[39m(\u001b[43mbenchmark_name_and_paths\u001b[49m\u001b[43m[\u001b[49m\u001b[43mbenchmark_name\u001b[49m\u001b[43m]\u001b[49m\u001b[43m[\u001b[49m\u001b[38;5;28;43;01mFalse\u001b[39;49;00m\u001b[43m]\u001b[49m, \u001b[38;5;124m\"\u001b[39m\u001b[38;5;124mr\u001b[39m\u001b[38;5;124m\"\u001b[39m) \u001b[38;5;28;01mas\u001b[39;00m f:\n\u001b[1;32m     71\u001b[0m     suggestion_statistics \u001b[38;5;241m=\u001b[39m json\u001b[38;5;241m.\u001b[39mload(f)\n\u001b[1;32m     72\u001b[0m     \u001b[38;5;28;01mfor\u001b[39;00m suggestion_id \u001b[38;5;129;01min\u001b[39;00m suggestion_statistics:\n",
      "\u001b[0;31mKeyError\u001b[0m: False"
     ]
    }
   ],
   "source": [
    "from collect_data_race_data import collect_data as collect_dr_data\n",
    "from collect_suggestion_complexity_data import collect_data as collect_sc_data\n",
    "from collect_suggestion_overlap_data import collect_data as collect_so_data\n",
    "from collect_speedup_data import collect_data as collect_su_data\n",
    "collect_dr_data()\n",
    "collect_sc_data()\n",
    "collect_so_data()\n",
    "collect_su_data()"
   ]
  },
  {
   "cell_type": "markdown",
   "id": "2d00e20c-dd1d-4f72-99a5-d7629456d960",
   "metadata": {},
   "source": [
    "### Visualize averaged values"
   ]
  },
  {
   "cell_type": "markdown",
   "id": "4e4f8714-dfcb-4dfd-bd58-96eed1c6c95a",
   "metadata": {},
   "source": [
    "### Visualize individual results"
   ]
  },
  {
   "cell_type": "code",
   "execution_count": null,
   "id": "2a3aea58-62db-45c5-adf1-75bd413ade4a",
   "metadata": {},
   "outputs": [],
   "source": [
    "from collect_benchmark_names import get_benchmark_names\n",
    "from create_benchmark_report import show_benchmark_report\n",
    "for bmn in get_benchmark_names():\n",
    "    show_benchmark_report(bmn)"
   ]
  },
  {
   "cell_type": "code",
   "execution_count": null,
   "id": "320b23ee-c8c6-41f5-91fe-babc715b27eb",
   "metadata": {},
   "outputs": [],
   "source": []
  }
 ],
 "metadata": {
  "kernelspec": {
   "display_name": "Python 3 (ipykernel)",
   "language": "python",
   "name": "python3"
  },
  "language_info": {
   "codemirror_mode": {
    "name": "ipython",
    "version": 3
   },
   "file_extension": ".py",
   "mimetype": "text/x-python",
   "name": "python",
   "nbconvert_exporter": "python",
   "pygments_lexer": "ipython3",
   "version": "3.10.12"
  }
 },
 "nbformat": 4,
 "nbformat_minor": 5
}
