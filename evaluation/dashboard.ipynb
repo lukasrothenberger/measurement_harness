{
 "cells": [
  {
   "cell_type": "markdown",
   "id": "aef8713a-7554-4c34-b980-52c639863ce6",
   "metadata": {},
   "source": [
    "## Slowdown"
   ]
  },
  {
   "cell_type": "markdown",
   "id": "9a4eee4e-543b-4a41-8b2a-c6037a42266e",
   "metadata": {},
   "source": [
    "### Data generation"
   ]
  },
  {
   "cell_type": "markdown",
   "id": "8722e926-b23f-4eb6-ab45-0d5e4e8af3f1",
   "metadata": {},
   "source": [
    "### Data collection"
   ]
  },
  {
   "cell_type": "markdown",
   "id": "4304e56c-0c94-4786-b802-5df3d78d6f2a",
   "metadata": {},
   "source": [
    "### Visualization"
   ]
  },
  {
   "cell_type": "markdown",
   "id": "8841ad14-ffdd-4674-a1d1-e299cb393655",
   "metadata": {},
   "source": []
  },
  {
   "cell_type": "markdown",
   "id": "22001a90-607c-45bf-90fd-615df734f269",
   "metadata": {},
   "source": [
    "## Quality"
   ]
  },
  {
   "cell_type": "code",
   "execution_count": 2,
   "id": "f774f94c-eef8-46a1-8ce7-47567531c39e",
   "metadata": {
    "scrolled": true
   },
   "outputs": [
    {
     "name": "stderr",
     "output_type": "stream",
     "text": [
      "2024-10-30 11:56:43,660 - GlobalLogger - INFO - Logger configured\n",
      "2024-10-30 11:56:43,660 - GlobalLogger - INFO - Logger configured\n",
      "2024-10-30 11:56:43,660 - GlobalLogger - INFO - Logger configured\n",
      "2024-10-30 11:56:43,660 - GlobalLogger - INFO - Logger configured\n",
      "[DP][GlobalLogger] INFO: Logger configured\n",
      "[DP][DataCollection.DataRaces.Driver] INFO: collecting suggestion data races\n",
      "2024-10-30 11:56:43,745 - GlobalLogger - INFO - Logger configured\n",
      "2024-10-30 11:56:43,745 - GlobalLogger - INFO - Logger configured\n",
      "2024-10-30 11:56:43,745 - GlobalLogger - INFO - Logger configured\n",
      "2024-10-30 11:56:43,745 - GlobalLogger - INFO - Logger configured\n",
      "2024-10-30 11:56:43,745 - GlobalLogger - INFO - Logger configured\n",
      "[DP][GlobalLogger] INFO: Logger configured\n",
      "[DP][DataCollection.Complexity.Driver] INFO: collecting suggestion complexity data\n",
      "2024-10-30 11:56:43,786 - GlobalLogger - INFO - Logger configured\n",
      "2024-10-30 11:56:43,786 - GlobalLogger - INFO - Logger configured\n",
      "2024-10-30 11:56:43,786 - GlobalLogger - INFO - Logger configured\n",
      "2024-10-30 11:56:43,786 - GlobalLogger - INFO - Logger configured\n",
      "2024-10-30 11:56:43,786 - GlobalLogger - INFO - Logger configured\n",
      "2024-10-30 11:56:43,786 - GlobalLogger - INFO - Logger configured\n",
      "[DP][GlobalLogger] INFO: Logger configured\n",
      "[DP][DataCollection.SuggestionOverlap.Driver] INFO: collecting suggestion overlap\n"
     ]
    }
   ],
   "source": [
    "from collect_data_race_data import collect_data as collect_dr_data\n",
    "from collect_suggestion_complexity_data import collect_data as collect_sc_data\n",
    "from collect_suggestion_overlap_data import collect_data as collect_so_data\n",
    "collect_dr_data()\n",
    "collect_sc_data()\n",
    "collect_so_data()"
   ]
  }
 ],
 "metadata": {
  "kernelspec": {
   "display_name": "Python 3 (ipykernel)",
   "language": "python",
   "name": "python3"
  },
  "language_info": {
   "codemirror_mode": {
    "name": "ipython",
    "version": 3
   },
   "file_extension": ".py",
   "mimetype": "text/x-python",
   "name": "python",
   "nbconvert_exporter": "python",
   "pygments_lexer": "ipython3",
   "version": "3.10.12"
  }
 },
 "nbformat": 4,
 "nbformat_minor": 5
}
